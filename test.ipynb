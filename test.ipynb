{
 "cells": [
  {
   "cell_type": "code",
   "execution_count": 1,
   "metadata": {},
   "outputs": [
    {
     "name": "stderr",
     "output_type": "stream",
     "text": [
      "/data/users/sb/anaconda3/envs/dif/lib/python3.11/site-packages/tqdm/auto.py:21: TqdmWarning: IProgress not found. Please update jupyter and ipywidgets. See https://ipywidgets.readthedocs.io/en/stable/user_install.html\n",
      "  from .autonotebook import tqdm as notebook_tqdm\n"
     ]
    }
   ],
   "source": [
    "from synthesize.models import ConvNet\n",
    "import torchvision.models as thmodels\n",
    "import torch.nn as nn\n",
    "import torch\n",
    "def load_model(model_name=\"resnet18\", dataset=\"cifar10\", pretrained=True, classes=[]):\n",
    "    def get_model(model_name=\"resnet18\"):\n",
    "        if \"conv\" in model_name:\n",
    "            if dataset in [\"cifar10\", \"cifar100\"]:\n",
    "                size = 32\n",
    "            elif dataset == \"tinyimagenet\":\n",
    "                size = 64\n",
    "            elif dataset in [\"imagenet-nette\", \"imagenet-woof\", \"imagenet-100\"]:\n",
    "                size = 128\n",
    "            else:\n",
    "                size = 224\n",
    "\n",
    "            nclass = len(classes)\n",
    "\n",
    "            model = ConvNet(\n",
    "                num_classes=nclass,\n",
    "                net_norm=\"batch\",\n",
    "                net_act=\"relu\",\n",
    "                net_pooling=\"avgpooling\",\n",
    "                net_depth=int(model_name[-1]),\n",
    "                net_width=128,\n",
    "                channel=3,\n",
    "                im_size=(size, size),\n",
    "            )\n",
    "        elif model_name == \"resnet18_modified\":\n",
    "            model = thmodels.__dict__[\"resnet18\"](pretrained=False)\n",
    "            model.conv1 = nn.Conv2d(\n",
    "                3, 64, kernel_size=(3, 3), stride=(1, 1), padding=(1, 1), bias=False\n",
    "            )\n",
    "            model.maxpool = nn.Identity()\n",
    "        elif model_name == \"resnet101_modified\":\n",
    "            model = thmodels.__dict__[\"resnet101\"](pretrained=False)\n",
    "            model.conv1 = nn.Conv2d(\n",
    "                3, 64, kernel_size=(3, 3), stride=(1, 1), padding=(1, 1), bias=False\n",
    "            )\n",
    "            model.maxpool = nn.Identity()\n",
    "        else:\n",
    "            model = thmodels.__dict__[model_name](pretrained=False)\n",
    "\n",
    "        return model\n",
    "\n",
    "    def pruning_classifier(model=None, classes=[]):\n",
    "        try:\n",
    "            model_named_parameters = [name for name, x in model.named_parameters()]\n",
    "            for name, x in model.named_parameters():\n",
    "                if (\n",
    "                    name == model_named_parameters[-1]\n",
    "                    or name == model_named_parameters[-2]\n",
    "                ):\n",
    "                    x.data = x[classes]\n",
    "        except:\n",
    "            print(\"ERROR in changing the number of classes.\")\n",
    "\n",
    "        return model\n",
    "\n",
    "    # \"imagenet-100\" \"imagenet-10\" \"imagenet-first\" \"imagenet-nette\" \"imagenet-woof\"\n",
    "    model = get_model(model_name)\n",
    "    model = pruning_classifier(model, classes)\n",
    "    if pretrained:\n",
    "        if dataset in [\n",
    "            \"imagenet-100\",\n",
    "            \"imagenet-10\",\n",
    "            \"imagenet-nette\",\n",
    "            \"imagenet-woof\",\n",
    "            \"tinyimagenet\",\n",
    "            \"cifar10\",\n",
    "            \"cifar100\",\n",
    "        ]:\n",
    "            checkpoint = torch.load(\n",
    "                f\"./data/pretrained_models/{dataset}_{model_name}.pth\", map_location=\"cpu\"\n",
    "                #f\"./additional_trained_models/{dataset}.pth\", map_location=\"cpu\"\n",
    "            )\n",
    "            model.load_state_dict(checkpoint[\"model\"])\n",
    "            print(f\"Load pretrained model for {dataset}!\")\n",
    "            print(f\"./data/pretrain_models/{dataset}_{model_name}.pth\")\n",
    "        elif dataset in [\"imagenet-1k\"]:\n",
    "            if model_name == \"efficientNet-b0\":\n",
    "                # Specifically, for loading the pre-trained EfficientNet model, the following modifications are made\n",
    "                from torchvision.models._api import WeightsEnum\n",
    "                from torch.hub import load_state_dict_from_url\n",
    "\n",
    "                def get_state_dict(self, *args, **kwargs):\n",
    "                    kwargs.pop(\"check_hash\")\n",
    "                    return load_state_dict_from_url(self.url, *args, **kwargs)\n",
    "\n",
    "                WeightsEnum.get_state_dict = get_state_dict\n",
    "\n",
    "            model = thmodels.__dict__[model_name](pretrained=True)\n",
    "\n",
    "    return model"
   ]
  },
  {
   "cell_type": "code",
   "execution_count": 4,
   "metadata": {},
   "outputs": [
    {
     "name": "stdout",
     "output_type": "stream",
     "text": [
      "Load pretrained model for cifar10!\n",
      "./data/pretrain_models/cifar10_conv3.pth\n"
     ]
    }
   ],
   "source": [
    "m = load_model(model_name='conv3',\n",
    "               dataset='cifar10',\n",
    "               pretrained=True,\n",
    "               classes=range(10),)"
   ]
  },
  {
   "cell_type": "code",
   "execution_count": 5,
   "metadata": {},
   "outputs": [
    {
     "name": "stdout",
     "output_type": "stream",
     "text": [
      "['T_destination', '__annotations__', '__call__', '__class__', '__delattr__', '__dict__', '__dir__', '__doc__', '__eq__', '__format__', '__ge__', '__getattr__', '__getattribute__', '__getstate__', '__gt__', '__hash__', '__init__', '__init_subclass__', '__le__', '__lt__', '__module__', '__ne__', '__new__', '__reduce__', '__reduce_ex__', '__repr__', '__setattr__', '__setstate__', '__sizeof__', '__str__', '__subclasshook__', '__weakref__', '_apply', '_backward_hooks', '_backward_pre_hooks', '_buffers', '_call_impl', '_compiled_call_impl', '_forward_hooks', '_forward_hooks_always_called', '_forward_hooks_with_kwargs', '_forward_pre_hooks', '_forward_pre_hooks_with_kwargs', '_get_backward_hooks', '_get_backward_pre_hooks', '_get_name', '_get_normlayer', '_is_full_backward_hook', '_load_from_state_dict', '_load_state_dict_post_hooks', '_load_state_dict_pre_hooks', '_make_layers', '_maybe_warn_non_full_backward_hook', '_modules', '_named_members', '_non_persistent_buffers_set', '_parameters', '_register_load_state_dict_pre_hook', '_register_state_dict_hook', '_replicate_for_data_parallel', '_save_to_state_dict', '_slow_forward', '_state_dict_hooks', '_state_dict_pre_hooks', '_version', '_wrapped_call_impl', 'add_module', 'apply', 'bfloat16', 'buffers', 'call_super_init', 'children', 'classifier', 'compile', 'cpu', 'cuda', 'depth', 'double', 'dump_patches', 'eval', 'extra_repr', 'float', 'forward', 'get_buffer', 'get_extra_state', 'get_feature', 'get_parameter', 'get_submodule', 'half', 'ipu', 'layers', 'load_state_dict', 'modules', 'named_buffers', 'named_children', 'named_modules', 'named_parameters', 'net_act', 'net_norm', 'net_pooling', 'parameters', 'register_backward_hook', 'register_buffer', 'register_forward_hook', 'register_forward_pre_hook', 'register_full_backward_hook', 'register_full_backward_pre_hook', 'register_load_state_dict_post_hook', 'register_module', 'register_parameter', 'register_state_dict_pre_hook', 'requires_grad_', 'set_extra_state', 'share_memory', 'state_dict', 'to', 'to_empty', 'train', 'training', 'type', 'xpu', 'zero_grad']\n"
     ]
    }
   ],
   "source": [
    "print(dir(m))"
   ]
  },
  {
   "cell_type": "code",
   "execution_count": null,
   "metadata": {},
   "outputs": [],
   "source": [
    "n = load_model(model_name='resnet18_modified',\n",
    "               dataset='cifar10',\n",
    "               pretrained=True,\n",
    "               classes=range(10),)"
   ]
  }
 ],
 "metadata": {
  "kernelspec": {
   "display_name": "dif",
   "language": "python",
   "name": "python3"
  },
  "language_info": {
   "codemirror_mode": {
    "name": "ipython",
    "version": 3
   },
   "file_extension": ".py",
   "mimetype": "text/x-python",
   "name": "python",
   "nbconvert_exporter": "python",
   "pygments_lexer": "ipython3",
   "version": "3.11.10"
  }
 },
 "nbformat": 4,
 "nbformat_minor": 2
}
